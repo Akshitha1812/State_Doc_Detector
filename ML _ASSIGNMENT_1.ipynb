{
 "cells": [
  {
   "cell_type": "markdown",
   "id": "9dee7891-c6bf-4443-b5ca-975b9410f755",
   "metadata": {},
   "source": [
    "# Problem - 2.3 Code"
   ]
  },
  {
   "cell_type": "code",
   "execution_count": 7,
   "id": "2c1d479b-b006-4f18-9722-9cda0c9f4f88",
   "metadata": {},
   "outputs": [
    {
     "name": "stdout",
     "output_type": "stream",
     "text": [
      "Paths: 16\n",
      "Obs seqs: 81\n",
      "Target: (0, 1, 0, 2)\n",
      "Direct: 0.0096296\n",
      "Forward: 0.009629599999999997\n",
      "Total: 0.9999999999999999\n"
     ]
    }
   ],
   "source": [
    "import itertools\n",
    "\n",
    "a = [[0.7, 0.3],\n",
    "     [0.4, 0.6]]\n",
    "\n",
    "b = [[0.1, 0.4, 0.5],\n",
    "     [0.7, 0.2, 0.1]]\n",
    "\n",
    "p = [0.6, 0.4]\n",
    "\n",
    "obs_vals = [0, 1, 2]\n",
    "t_len = 4\n",
    "n = 2\n",
    "\n",
    "def direct(o):\n",
    "    total = 0.0\n",
    "    for path in itertools.product(range(n), repeat=len(o)):\n",
    "        val = p[path[0]] * b[path[0]][o[0]]\n",
    "        for t in range(1, len(o)):\n",
    "            prev = path[t - 1]\n",
    "            curr = path[t]\n",
    "            val *= a[prev][curr] * b[curr][o[t]]\n",
    "        total += val\n",
    "    return total\n",
    "\n",
    "def forward(o):\n",
    "    alpha = [p[s] * b[s][o[0]] for s in range(n)]\n",
    "    for t in range(1, len(o)):\n",
    "        new_alpha = []\n",
    "        for j in range(n):\n",
    "            s = sum(alpha[i] * a[i][j] for i in range(n))\n",
    "            new_alpha.append(s * b[j][o[t]])\n",
    "        alpha = new_alpha\n",
    "    return sum(alpha)\n",
    "\n",
    "if __name__ == \"__main__\":\n",
    "    o_target = (0, 1, 0, 2)\n",
    "    num_paths = n ** t_len\n",
    "    num_obs = len(obs_vals) ** t_len\n",
    "    p_direct = direct(o_target)\n",
    "    p_forward = forward(o_target)\n",
    "    total_prob = sum(forward(o) for o in itertools.product(obs_vals, repeat=t_len))\n",
    "\n",
    "    print(\"Paths:\", num_paths)\n",
    "    print(\"Obs seqs:\", num_obs)\n",
    "    print(\"Target:\", o_target)\n",
    "    print(\"Direct:\", p_direct)\n",
    "    print(\"Forward:\", p_forward)\n",
    "    print(\"Total:\", total_prob)\n"
   ]
  },
  {
   "cell_type": "markdown",
   "id": "b188b7a1-e6dd-4678-8ef1-68f76a5d3a59",
   "metadata": {},
   "source": [
    "# Problem 2.10 - Code"
   ]
  },
  {
   "cell_type": "code",
   "execution_count": null,
   "id": "50b60b03-5ac3-40f9-9ca1-0a3202472751",
   "metadata": {},
   "outputs": [],
   "source": []
  }
 ],
 "metadata": {
  "kernelspec": {
   "display_name": "Python 3 (ipykernel)",
   "language": "python",
   "name": "python3"
  },
  "language_info": {
   "codemirror_mode": {
    "name": "ipython",
    "version": 3
   },
   "file_extension": ".py",
   "mimetype": "text/x-python",
   "name": "python",
   "nbconvert_exporter": "python",
   "pygments_lexer": "ipython3",
   "version": "3.12.7"
  }
 },
 "nbformat": 4,
 "nbformat_minor": 5
}
